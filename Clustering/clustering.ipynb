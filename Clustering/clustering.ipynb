{
 "cells": [
  {
   "cell_type": "markdown",
   "metadata": {},
   "source": [
    "# Clustering caveolin from the all-atoms simulation"
   ]
  },
  {
   "cell_type": "markdown",
   "metadata": {},
   "source": [
    "Simulation: Caveolin in a POPC bilayer (778 ns).\n",
    "\n",
    "Similarity pattern: RMSD distance metric.\n",
    "\n",
    "Cluster analysis with a hierarchecal method: Ward's minimum variance method."
   ]
  },
  {
   "cell_type": "code",
   "execution_count": 2,
   "metadata": {
    "collapsed": false
   },
   "outputs": [],
   "source": [
    "from __future__ import print_function, division\n",
    "%matplotlib inline\n",
    "import mdtraj as md\n",
    "import numpy as np\n",
    "import matplotlib.pyplot as plt\n",
    "import scipy.cluster.hierarchy"
   ]
  },
  {
   "cell_type": "code",
   "execution_count": 3,
   "metadata": {
    "collapsed": true
   },
   "outputs": [],
   "source": [
    "directory = '/home/chevrot/Simulations/Caveolin/All_atoms/MD_abacus_weria/2/'\n",
    "xtc_file = directory+'protein_fit.xtc'\n",
    "pdb_file = directory+'protein.pdb'"
   ]
  },
  {
   "cell_type": "code",
   "execution_count": 4,
   "metadata": {
    "collapsed": true
   },
   "outputs": [],
   "source": [
    "traj = md.load(xtc_file, top=pdb_file)"
   ]
  },
  {
   "cell_type": "markdown",
   "metadata": {},
   "source": [
    "Discard the first 100ns"
   ]
  },
  {
   "cell_type": "code",
   "execution_count": 5,
   "metadata": {
    "collapsed": true
   },
   "outputs": [],
   "source": [
    "traj = traj[500:]"
   ]
  },
  {
   "cell_type": "markdown",
   "metadata": {},
   "source": [
    "Pairwise RMSDs between conformations"
   ]
  },
  {
   "cell_type": "code",
   "execution_count": 6,
   "metadata": {
    "collapsed": false
   },
   "outputs": [
    {
     "name": "stdout",
     "output_type": "stream",
     "text": [
      "Max pairwise rmsd: 1.044394 nm\n"
     ]
    }
   ],
   "source": [
    "atom_indices = [a.index for a in traj.topology.atoms if a.element.symbol != 'H']\n",
    "distances = np.empty((traj.n_frames, traj.n_frames))\n",
    "for i in range(traj.n_frames):\n",
    "    #distances[i] = md.rmsd(traj, traj, i)\n",
    "    distances[i] = md.rmsd(traj, traj, i, atom_indices=atom_indices)\n",
    "print('Max pairwise rmsd: %f nm' % np.max(distances))"
   ]
  },
  {
   "cell_type": "markdown",
   "metadata": {},
   "source": [
    "Clustering with the Ward's algorithm"
   ]
  },
  {
   "cell_type": "code",
   "execution_count": 7,
   "metadata": {
    "collapsed": true
   },
   "outputs": [],
   "source": [
    "linkage = scipy.cluster.hierarchy.ward(distances)"
   ]
  },
  {
   "cell_type": "markdown",
   "metadata": {},
   "source": [
    "Plotting the dendrogram"
   ]
  },
  {
   "cell_type": "code",
   "execution_count": 8,
   "metadata": {
    "collapsed": false
   },
   "outputs": [
    {
     "data": {
      "image/png": "[encoded data removed]",
      "text/plain": [
       "<matplotlib.figure.Figure at 0x7f72f24d02d0>"
      ]
     },
     "metadata": {},
     "output_type": "display_data"
    }
   ],
   "source": [
    "plt.title('RMSD Ward hierarchical clustering')\n",
    "scipy.cluster.hierarchy.dendrogram(linkage, no_labels=True, count_sort='descendent')\n",
    "None"
   ]
  },
  {
   "cell_type": "code",
   "execution_count": 9,
   "metadata": {
    "collapsed": false
   },
   "outputs": [],
   "source": [
    "dendrogram = scipy.cluster.hierarchy.dendrogram(linkage, no_labels=True, count_sort='descendent', no_plot=True)"
   ]
  },
  {
   "cell_type": "markdown",
   "metadata": {},
   "source": [
    "Let's choose only 3 clusters"
   ]
  },
  {
   "cell_type": "code",
   "execution_count": 10,
   "metadata": {
    "collapsed": false
   },
   "outputs": [],
   "source": [
    "threshold = 190   # chosen from the dendrogram plot\n",
    "clusters = scipy.cluster.hierarchy.fcluster(linkage, threshold, 'distance')\n",
    "n_cluster1 = len(clusters[clusters==1])\n",
    "n_cluster2 = len(clusters[clusters==2])\n",
    "n_cluster3 = len(clusters[clusters==3])"
   ]
  },
  {
   "cell_type": "code",
   "execution_count": 15,
   "metadata": {
    "collapsed": false
   },
   "outputs": [],
   "source": [
    "frames_cluster1 = (dendrogram['ivl'][:n_cluster1])\n",
    "frames_cluster2 = (dendrogram['ivl'][n_cluster1:n_cluster1+n_cluster2])\n",
    "frames_cluster3 = (dendrogram['ivl'][n_cluster1+n_cluster2:])"
   ]
  },
  {
   "cell_type": "markdown",
   "metadata": {},
   "source": [
    "## Finding centroids"
   ]
  },
  {
   "cell_type": "markdown",
   "metadata": {},
   "source": [
    "Finding a \"centroid\" (representitive structure) for the 3 clusters"
   ]
  },
  {
   "cell_type": "code",
   "execution_count": 16,
   "metadata": {
    "collapsed": false
   },
   "outputs": [],
   "source": [
    "frames_cluster1 = [int(i) for i in frames_cluster1]\n",
    "frames_cluster2 = [int(i) for i in frames_cluster2]\n",
    "frames_cluster3 = [int(i) for i in frames_cluster3]\n",
    "cluster1 = traj[frames_cluster1]\n",
    "cluster2 = traj[frames_cluster2]\n",
    "cluster3 = traj[frames_cluster3]"
   ]
  },
  {
   "cell_type": "markdown",
   "metadata": {},
   "source": [
    "Calculating the pairwise RMSDs between the conformations for each cluster"
   ]
  },
  {
   "cell_type": "code",
   "execution_count": 17,
   "metadata": {
    "collapsed": false
   },
   "outputs": [],
   "source": [
    "dist = []\n",
    "for cluster in (cluster1, cluster2, cluster3):\n",
    "    atom_indices = [a.index for a in cluster.topology.atoms if a.element.symbol != 'H']\n",
    "    distances = np.empty((cluster.n_frames, cluster.n_frames))\n",
    "    for i in range(cluster.n_frames):\n",
    "        distances[i] = md.rmsd(cluster, cluster, i, atom_indices=atom_indices)\n",
    "    dist.append(distances)"
   ]
  },
  {
   "cell_type": "markdown",
   "metadata": {},
   "source": [
    "Transforming these distances into similarity scores. The similarities can be calculated as\n",
    "\n",
    "$$s_{ij}=e^{−β⋅d_{ij}}/d_{scale}$$\n",
    "\n",
    "where $s_{ij}$ is the pairwise similarity, $d_{ij}$ is the pairwise distance, and $d_{scale}$ is the standard deviation of the values of d.\n",
    "Then, the centroid is defined as\n",
    "\n",
    "$$argmax_i \\sum_j s_{ij}$$"
   ]
  },
  {
   "cell_type": "code",
   "execution_count": 19,
   "metadata": {
    "collapsed": false
   },
   "outputs": [],
   "source": [
    "beta = 1\n",
    "index_clusters = []\n",
    "for i in range(len(dist)):\n",
    "    index = np.exp(-beta*dist[i] / dist[i].std()).sum(axis=1).argmax()\n",
    "    index_clusters.append(index)"
   ]
  },
  {
   "cell_type": "code",
   "execution_count": 20,
   "metadata": {
    "collapsed": false
   },
   "outputs": [
    {
     "name": "stdout",
     "output_type": "stream",
     "text": [
      "861\n",
      "59\n",
      "510\n"
     ]
    }
   ],
   "source": [
    "for index in index_clusters:\n",
    "    print(index)"
   ]
  },
  {
   "cell_type": "code",
   "execution_count": 21,
   "metadata": {
    "collapsed": false
   },
   "outputs": [],
   "source": [
    "centroids = []\n",
    "clusters = (cluster1, cluster2, cluster3)\n",
    "for index, cluster in zip(index_clusters, clusters):\n",
    "    centroids.append(cluster[index])"
   ]
  },
  {
   "cell_type": "code",
   "execution_count": 22,
   "metadata": {
    "collapsed": false
   },
   "outputs": [
    {
     "data": {
      "text/plain": [
       "[<mdtraj.Trajectory with 1 frames, 925 atoms, 55 residues, and unitcells at 0x7f72def21050>,\n",
       " <mdtraj.Trajectory with 1 frames, 925 atoms, 55 residues, and unitcells at 0x7f72def21150>,\n",
       " <mdtraj.Trajectory with 1 frames, 925 atoms, 55 residues, and unitcells at 0x7f72eff2ab90>]"
      ]
     },
     "execution_count": 22,
     "metadata": {},
     "output_type": "execute_result"
    }
   ],
   "source": [
    "centroids"
   ]
  },
  {
   "cell_type": "code",
   "execution_count": 24,
   "metadata": {
    "collapsed": false
   },
   "outputs": [],
   "source": [
    "centroids[0].save_pdb('centroid_1.pdb')\n",
    "centroids[1].save_pdb('centroid_2.pdb')\n",
    "centroids[2].save_pdb('centroid_3.pdb')"
   ]
  },
  {
   "cell_type": "code",
   "execution_count": null,
   "metadata": {
    "collapsed": true
   },
   "outputs": [],
   "source": []
  }
 ],
 "metadata": {
  "kernelspec": {
   "display_name": "Python 2",
   "language": "python",
   "name": "python2"
  },
  "language_info": {
   "codemirror_mode": {
    "name": "ipython",
    "version": 2
   },
   "file_extension": ".py",
   "mimetype": "text/x-python",
   "name": "python",
   "nbconvert_exporter": "python",
   "pygments_lexer": "ipython2",
   "version": "2.7.9"
  }
 },
 "nbformat": 4,
 "nbformat_minor": 0
}
