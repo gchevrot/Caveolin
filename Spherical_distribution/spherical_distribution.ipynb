{
 "cells": [
  {
   "cell_type": "code",
   "execution_count": 921,
   "metadata": {
    "collapsed": true
   },
   "outputs": [],
   "source": [
    "from __future__ import division, print_function\n",
    "import re\n",
    "import numpy as np\n",
    "import matplotlib.pyplot as plt\n",
    "import seaborn; seaborn.set()  # plot styling"
   ]
  },
  {
   "cell_type": "code",
   "execution_count": 922,
   "metadata": {
    "collapsed": false
   },
   "outputs": [],
   "source": [
    "def geometric_center(coordinates):\n",
    "    \"\"\"\n",
    "    coordinates: np.array\n",
    "                 coordinates of one atom per line [x,y,z] \n",
    "    return: np.array\n",
    "            coordinates of the geometric center\n",
    "    \"\"\"\n",
    "    return np.sum(coordinates, axis=0) / len(coordinates)\n",
    "\n",
    "def radius(center, coordinates):\n",
    "    \"\"\"\n",
    "    center: np.array\n",
    "            coordinates of the center of the sphere [x,y,z]\n",
    "    coordinates: np.array\n",
    "                 coordinates of one atom per line [x,y,z] (the atoms are on the surface of the sphere)\n",
    "    return: np.array\n",
    "            radius\n",
    "    \"\"\"\n",
    "    distances = (coordinates - center)**2\n",
    "    radius = (np.sum(np.sqrt(distances.sum(axis=1)))) / len(distances)\n",
    "    return radius\n",
    "\n",
    "def distances(center, coordinates):\n",
    "    \"\"\"\n",
    "    center: np.array\n",
    "            coordinates of the center of the sphere [x,y,z]\n",
    "    coordinates: np.array\n",
    "                 coordinates of one atom per line [x,y,z]\n",
    "    return: np.array\n",
    "            distances between the center and the atoms (one distance per atom)\n",
    "    \"\"\"\n",
    "    distances = (coordinates - center)**2\n",
    "    # if we calculate the distance from the center for only one atom:\n",
    "    if len(distances.shape) == 1:\n",
    "        distances = np.sqrt(distances.sum())\n",
    "    else:\n",
    "        distances = np.sqrt(distances.sum(axis=1))\n",
    "    return distances\n",
    "\n",
    "def cartesian_to_spherical_coordinates(coordinates):\n",
    "    \"\"\"\n",
    "    coordinates: np.array\n",
    "                 coordinates of one atom per line [x,y,z]\n",
    "    return: np.array\n",
    "            spherical coordinates of one atom per line [r,theta,phi]\n",
    "    \"\"\"\n",
    "    if len(coordinates.shape) == 1:\n",
    "        x = coordinates[0]\n",
    "        y = coordinates[1]\n",
    "        z = coordinates[2]\n",
    "        r = np.sqrt(x**2+y**2+z**2)\n",
    "        theta = np.arccos(z/r)\n",
    "        phi = np.arctan(y/x)\n",
    "        return np.array([r, theta, phi])\n",
    "    else:\n",
    "        x = coordinates[:, 0]\n",
    "        y = coordinates[:, 1]\n",
    "        z = coordinates[:, 2]\n",
    "        r = np.sqrt(x**2+y**2+z**2)\n",
    "        theta = np.arccos(z/r)\n",
    "        phi = np.arctan(y/x)\n",
    "        r = np.expand_dims(r, axis=1)\n",
    "        theta = np.expand_dims(theta, axis=1)\n",
    "        phi = np.expand_dims(phi, axis=1)\n",
    "        return np.hstack((r, theta, phi))\n",
    "\n",
    "def spherical_to_cartesian_coordinates(spherical_coordinates):\n",
    "    \"\"\"\n",
    "    spherial_coordinates: np.array\n",
    "                          spherical coordinates of one atom per line [r,theta,phi]\n",
    "    return: np.array\n",
    "            cartesian coordinates of one atom per line [x,y,z]\n",
    "    \"\"\"\n",
    "    if len(spherical_coordinates.shape) == 1:\n",
    "        r = spherical_coordinates[0]\n",
    "        theta = spherical_coordinates[1]\n",
    "        phi = spherical_coordinates[2]\n",
    "        x = r * np.sin(theta) * np.cos(phi)\n",
    "        y = r * np.sin(theta) * np.sin(phi)\n",
    "        z = r * np.cos(theta)\n",
    "        return np.array([x, y, z])\n",
    "    else:\n",
    "        r = spherical_coordinates[:, 0]\n",
    "        theta = spherical_coordinates[:, 1]\n",
    "        phi = spherical_coordinates[:, 2]\n",
    "        x = r * np.sin(theta) * np.cos(phi)\n",
    "        y = r * np.sin(theta) * np.sin(phi)\n",
    "        z = r * np.cos(theta)\n",
    "        x = np.expand_dims(x, axis=1)\n",
    "        y = np.expand_dims(y, axis=1)\n",
    "        z = np.expand_dims(z, axis=1)\n",
    "        return np.hstack((x, y, z))\n",
    "\n",
    "def normalize(v, tolerance=0.00001):\n",
    "    \"\"\"\n",
    "    v: list or np.array\n",
    "        vector\n",
    "    return: np.array\n",
    "            normalized vector\n",
    "    \"\"\"\n",
    "    magnitude_square = np.sum(n * n for n in v)\n",
    "    if abs(magnitude_square - 1.0) > tolerance:\n",
    "        magnitude = np.sqrt(magnitude_square)\n",
    "        v = [n / magnitude for n in v]\n",
    "    return np.array(v)\n",
    "\n",
    "def axisangle_to_quaternion(axis, angle):\n",
    "    \"\"\"\n",
    "    axis: list or np.array (3,)\n",
    "          axis (= vector) of rotation\n",
    "    angle: float in radian\n",
    "           angle of rotation\n",
    "    return: np.array (4,)\n",
    "            quaternion\n",
    "    \"\"\"\n",
    "    axis = normalize(axis)\n",
    "    x, y, z = axis\n",
    "    angle /= 2.\n",
    "    w = np.cos(angle)\n",
    "    x = x * np.sin(angle)\n",
    "    y = y * np.sin(angle)\n",
    "    z = z * np.sin(angle)\n",
    "    return np.array([w, x, y, z])\n",
    "\n",
    "class Quaternion(object):\n",
    "    def __init__(self, quaternion):\n",
    "        \"\"\"\n",
    "        quaternion: list or np.array (4,)\n",
    "        return: np.array (4,) [w, x, y, z]\n",
    "        \"\"\"\n",
    "        #self.w = quaternion[0]\n",
    "        #self.x = quaternion[1]\n",
    "        #self.y = quaternion[2]\n",
    "        #self.z = quaternion[3]\n",
    "        self.q = np.array([quaternion[0], quaternion[1], quaternion[2], quaternion[3]])\n",
    "    \n",
    "    def __str__(self):\n",
    "        \"\"\"\n",
    "        How it will appear with the print function\n",
    "        \"\"\"\n",
    "        return('quaternion(%f, %f, %f, %f)' % (self.q[0], self.q[1], self.q[2], self.q[3]))\n",
    "    \n",
    "    def __repr__(self):\n",
    "        \"\"\"\n",
    "        Override __repr__: the quaternion will appear as a numpy array when you type the instance in the notebook\n",
    "        \"\"\"\n",
    "        return repr(self.q)\n",
    "    \n",
    "    def __getitem__(self, index):\n",
    "        \"\"\"\n",
    "        Allows its instances to use the [] (indexer) operators.\n",
    "        \"\"\"\n",
    "        return self.q[index]\n",
    "\n",
    "    def __mul__(self, quaternion2):\n",
    "        \"\"\"\n",
    "        Multiplication of quaternions\n",
    "        \"\"\"\n",
    "        w = self.q[0] * quaternion2.q[0] - self.q[1] * quaternion2.q[1] - self.q[2] * quaternion2.q[2] - self.q[3] * quaternion2.q[3]\n",
    "        x = self.q[0] * quaternion2.q[1] + self.q[1] * quaternion2.q[0] + self.q[2] * quaternion2.q[3] - self.q[3] * quaternion2.q[2]\n",
    "        y = self.q[0] * quaternion2.q[2] + self.q[2] * quaternion2.q[0] + self.q[3] * quaternion2.q[1] - self.q[1] * quaternion2.q[3]\n",
    "        z = self.q[0] * quaternion2.q[3] + self.q[3] * quaternion2.q[0] + self.q[1] * quaternion2.q[2] - self.q[2] * quaternion2.q[1]\n",
    "        return Quaternion([w, x, y, z])\n",
    "    \n",
    "    def conjugate(self):\n",
    "        return(Quaternion(np.array([self.q[0], -self.q[1], -self.q[2], -self.q[3]])))\n",
    "    \n",
    "    def rotate_vector(self, vector):\n",
    "        \"\"\"\n",
    "        Rotation of a vector == multiplication of a quaternion by a vector:\n",
    "        q * vector * q.conjugate()\n",
    "        vector: list or np.array (3,)\n",
    "        \"\"\"\n",
    "        # if vector is a list, convert to a numpy array\n",
    "        if not('numpy' in str(type(vector))):\n",
    "            vector = np.array(vector)\n",
    "        #Converting vector in a quaternion with w = 0:\n",
    "        vector = np.append([0.0,], vector) \n",
    "        vector = np.array(vector)\n",
    "        vector = Quaternion(vector)\n",
    "        res = (self*vector)*self.conjugate()\n",
    "        return(res[1:])\n",
    "            \n",
    "    def rotation_matrix(self):\n",
    "        \"\"\"\n",
    "        return: np.array\n",
    "                quaternion-derived rotation matrix (3, 3)\n",
    "        \"\"\"\n",
    "        matrix = np.zeros((3, 3))\n",
    "        # calculate the rotation matrix based on the quaternion value\n",
    "        matrix[0, 0] = self.q[0]**2 + self.q[1]**2 - self.q[2]**2 - self.q[3]**2\n",
    "        matrix[0, 1] = 2 * (self.q[1]*self.q[2] + self.q[0]*self.q[3])\n",
    "        matrix[0, 2] = 2 * (self.q[1]*self.q[3] - self.q[0]*self.q[2])\n",
    "        matrix[1, 0] = 2 * (self.q[1]*self.q[2] - self.q[0]*self.q[2])\n",
    "        matrix[1, 1] = self.q[0]**2 - self.q[1]**2 + self.q[2]**2 - self.q[3]**2\n",
    "        matrix[1, 2] = 2 * (self.q[2]*self.q[3] + self.q[0]*self.q[1])\n",
    "        matrix[2, 0] = 2 * (self.q[1]*self.q[3] + self.q[0]*self.q[2])\n",
    "        matrix[2, 1] = 2 * (self.q[2]*self.q[3] - self.q[0]*self.q[1])\n",
    "        matrix[2, 2] = self.q[0]**2 - self.q[1]**2 - self.q[2]**2 + self.q[3]**2\n",
    "    \n",
    "        return matrix"
   ]
  },
  {
   "cell_type": "code",
   "execution_count": 923,
   "metadata": {
    "collapsed": true
   },
   "outputs": [],
   "source": [
    "# function to automate the rotation\n",
    "def rotate(axis_of_rotation, angle_of_rotation, coordinates):\n",
    "    \"\"\"\n",
    "    axis_of_rotation: list\n",
    "    angle_of_rotation: radian\n",
    "    coordinates: np.array\n",
    "                 coordinates of the molecule to rotate\n",
    "    \"\"\"\n",
    "    q = axisangle_to_quaternion(axis_of_rotation, angle_of_rotation) # the quaternion is also converted to a unit quaternion\n",
    "    # define as a quaternion\n",
    "    quaternion = Quaternion(q)\n",
    "    new_coordinates = np.zeros((len(coordinates), 3))\n",
    "    if coordinates.ndim == 1:\n",
    "        new_coordinates = quaternion.rotate_vector(coordinates)\n",
    "    else:\n",
    "        for i, vector in enumerate(coordinates):\n",
    "            new_coordinates[i] = quaternion.rotate_vector(vector)\n",
    "    # Note: can also use the quaternion-derived rotation matrix to rotate the vector\n",
    "    #if coordinates.ndim == 1:\n",
    "    #    new_coordinates = quaternion.rotation_matrix().dot(coordinates)\n",
    "    #else:\n",
    "    #    for i, vector in enumerate(coordinates):\n",
    "    #        new_coordinates[i] = quaternion.rotation_matrix().dot(vector)\n",
    "    return(new_coordinates)"
   ]
  },
  {
   "cell_type": "markdown",
   "metadata": {},
   "source": [
    "# Testing"
   ]
  },
  {
   "cell_type": "code",
   "execution_count": 924,
   "metadata": {
    "collapsed": false
   },
   "outputs": [],
   "source": [
    "def test_rotation():\n",
    "    # Test 1:\n",
    "    axis_of_rotation = [0., 0., 1.]\n",
    "    angle_of_rotation = np.pi\n",
    "    vector_to_rotate = np.array([1., 0. ,0.])\n",
    "    solution = np.array([-1., 0., 0.])\n",
    "    np.testing.assert_array_almost_equal(rotate(axis_of_rotation, angle_of_rotation, vector_to_rotate), solution, decimal = 15)  \n",
    "    # Test 2:\n",
    "    vector_to_rotate = np.array([1., 1. ,0.])\n",
    "    solution = np.array([-1., -1., 0.])\n",
    "    np.testing.assert_array_almost_equal(rotate(axis_of_rotation, angle_of_rotation, vector_to_rotate), solution, decimal = 15) "
   ]
  },
  {
   "cell_type": "code",
   "execution_count": 925,
   "metadata": {
    "collapsed": false
   },
   "outputs": [
    {
     "name": "stdout",
     "output_type": "stream",
     "text": [
      "Tests OK!\n"
     ]
    }
   ],
   "source": [
    "if test_rotation() == None:\n",
    "    print('Tests OK!')\n",
    "else:\n",
    "    test_rotation()"
   ]
  },
  {
   "cell_type": "markdown",
   "metadata": {},
   "source": [
    "# Application on Caveolin"
   ]
  },
  {
   "cell_type": "code",
   "execution_count": 926,
   "metadata": {
    "collapsed": false
   },
   "outputs": [
    {
     "name": "stdout",
     "output_type": "stream",
     "text": [
      "/home/chevrot/Simulations/Caveolin/Lipid_droplets/CO-30_DO-20_Cav_surface/1_preparation/CG_centroid_1\n"
     ]
    }
   ],
   "source": [
    "%cd /home/chevrot/Simulations/Caveolin/Lipid_droplets/CO-30_DO-20_Cav_surface/1_preparation/CG_centroid_1\n",
    "file_name = 'CG1_center.gro'"
   ]
  },
  {
   "cell_type": "code",
   "execution_count": 927,
   "metadata": {
    "collapsed": true
   },
   "outputs": [],
   "source": [
    "with open(file_name, 'r') as f:\n",
    "    data = f.readlines()"
   ]
  },
  {
   "cell_type": "code",
   "execution_count": 928,
   "metadata": {
    "collapsed": false
   },
   "outputs": [
    {
     "data": {
      "text/plain": [
       "138"
      ]
     },
     "execution_count": 928,
     "metadata": {},
     "output_type": "execute_result"
    }
   ],
   "source": [
    "coordinates = []\n",
    "for line in data:\n",
    "    coordinates.append(line.split()[-3:]) \n",
    "# 2 first and last lines are empty array\n",
    "coordinates = coordinates[2:-1]\n",
    "len(coordinates)"
   ]
  },
  {
   "cell_type": "code",
   "execution_count": 929,
   "metadata": {
    "collapsed": true
   },
   "outputs": [],
   "source": [
    "coordinates = np.array(coordinates)\n",
    "# transform string to float\n",
    "coordinates = coordinates.astype(np.float)"
   ]
  },
  {
   "cell_type": "code",
   "execution_count": 930,
   "metadata": {
    "collapsed": false
   },
   "outputs": [
    {
     "data": {
      "text/plain": [
       "(138, 3)"
      ]
     },
     "execution_count": 930,
     "metadata": {},
     "output_type": "execute_result"
    }
   ],
   "source": [
    "coordinates.shape"
   ]
  },
  {
   "cell_type": "markdown",
   "metadata": {},
   "source": [
    "##### Determining the position of the sphere and the radius of the sphere"
   ]
  },
  {
   "cell_type": "markdown",
   "metadata": {},
   "source": [
    "I want to put 18 caveolin molecules on the surface of the lipid droplet"
   ]
  },
  {
   "cell_type": "code",
   "execution_count": 931,
   "metadata": {
    "collapsed": true
   },
   "outputs": [],
   "source": [
    "coord = np.zeros((138, 3, 18))"
   ]
  },
  {
   "cell_type": "code",
   "execution_count": 932,
   "metadata": {
    "collapsed": true
   },
   "outputs": [],
   "source": [
    "file_name = '../equi.gro'"
   ]
  },
  {
   "cell_type": "code",
   "execution_count": 933,
   "metadata": {
    "collapsed": true
   },
   "outputs": [],
   "source": [
    "with open(file_name, 'r') as f:\n",
    "    data_ld = f.readlines()"
   ]
  },
  {
   "cell_type": "code",
   "execution_count": 934,
   "metadata": {
    "collapsed": false
   },
   "outputs": [
    {
     "data": {
      "text/plain": [
       "(2143, 3)"
      ]
     },
     "execution_count": 934,
     "metadata": {},
     "output_type": "execute_result"
    }
   ],
   "source": [
    "sphere_coordinates = []\n",
    "for line in data_ld[2:-1]: # 2 first and last lines are not atoms and coordinates\n",
    "    if re.match(r'PO4[1-9]+', line.split()[1]):\n",
    "        sphere_coordinates.append(line.split()[-6:-3]) \n",
    "sphere_coordinates = np.array(sphere_coordinates)\n",
    "sphere_coordinates = sphere_coordinates.astype(np.float)\n",
    "sphere_coordinates.shape"
   ]
  },
  {
   "cell_type": "code",
   "execution_count": 935,
   "metadata": {
    "collapsed": false
   },
   "outputs": [
    {
     "data": {
      "text/plain": [
       "array([ 14.58679701,  16.50979701,  15.69261549])"
      ]
     },
     "execution_count": 935,
     "metadata": {},
     "output_type": "execute_result"
    }
   ],
   "source": [
    "center_of_sphere = geometric_center(sphere_coordinates)\n",
    "center_of_sphere"
   ]
  },
  {
   "cell_type": "code",
   "execution_count": 936,
   "metadata": {
    "collapsed": false
   },
   "outputs": [
    {
     "data": {
      "text/plain": [
       "11.844919353857689"
      ]
     },
     "execution_count": 936,
     "metadata": {},
     "output_type": "execute_result"
    }
   ],
   "source": [
    "sphere_radius = radius(center_of_sphere, sphere_coordinates)\n",
    "sphere_radius"
   ]
  },
  {
   "cell_type": "markdown",
   "metadata": {},
   "source": [
    "##### Translating Caveolin to origin (needed before rotation) "
   ]
  },
  {
   "cell_type": "code",
   "execution_count": 937,
   "metadata": {
    "collapsed": false
   },
   "outputs": [
    {
     "data": {
      "text/plain": [
       "array([ 14.79631884,  14.79636957,  14.79633333])"
      ]
     },
     "execution_count": 937,
     "metadata": {},
     "output_type": "execute_result"
    }
   ],
   "source": [
    "geometric_center(coordinates)"
   ]
  },
  {
   "cell_type": "code",
   "execution_count": 938,
   "metadata": {
    "collapsed": true
   },
   "outputs": [],
   "source": [
    "coordinates = coordinates - geometric_center(coordinates)"
   ]
  },
  {
   "cell_type": "code",
   "execution_count": 939,
   "metadata": {
    "collapsed": false
   },
   "outputs": [
    {
     "data": {
      "text/plain": [
       "(138, 3)"
      ]
     },
     "execution_count": 939,
     "metadata": {},
     "output_type": "execute_result"
    }
   ],
   "source": [
    "coordinates.shape"
   ]
  },
  {
   "cell_type": "markdown",
   "metadata": {},
   "source": [
    "##### Rotation to put the \"main axis\" of caveolin in the z-direction"
   ]
  },
  {
   "cell_type": "code",
   "execution_count": 940,
   "metadata": {
    "collapsed": false
   },
   "outputs": [],
   "source": [
    "new_coordinates = rotate([0,1,0], -np.pi/4., coordinates)"
   ]
  },
  {
   "cell_type": "markdown",
   "metadata": {},
   "source": [
    "Translate the coordinates on the surface of the lipid droplet"
   ]
  },
  {
   "cell_type": "code",
   "execution_count": 941,
   "metadata": {
    "collapsed": true
   },
   "outputs": [],
   "source": [
    "radius = sphere_radius"
   ]
  },
  {
   "cell_type": "code",
   "execution_count": 942,
   "metadata": {
    "collapsed": true
   },
   "outputs": [],
   "source": [
    "cpt = 0 # counter - from 0 to 17 <==> number of caveolins on the sphere\n",
    "translate = np.array([0., 0., radius])\n",
    "translate += center_of_sphere\n",
    "coord[:,:,cpt] = new_coordinates + translate\n",
    "cpt+=1"
   ]
  },
  {
   "cell_type": "markdown",
   "metadata": {},
   "source": [
    "##### Rotation around x-axis and translation on a sphere"
   ]
  },
  {
   "cell_type": "code",
   "execution_count": 943,
   "metadata": {
    "collapsed": false
   },
   "outputs": [],
   "source": [
    "axis_of_rotation = [1., 0., 0.]\n",
    "angle_of_rotation = np.pi\n",
    "\n",
    "# Define the translation vector:\n",
    "main_axis_of_the_molecule = np.array([0., 0., 1.])\n",
    "translate = radius * rotate(axis_of_rotation, angle_of_rotation, main_axis_of_the_molecule)\n",
    "translate += center_of_sphere\n",
    "\n",
    "# Rotating and translating on the surface of the sphere\n",
    "coord[:,:,cpt] = rotate(axis_of_rotation, angle_of_rotation, new_coordinates)  + translate\n",
    "cpt+=1"
   ]
  },
  {
   "cell_type": "markdown",
   "metadata": {},
   "source": [
    "##### Rotation around x-axis and translation on a sphere"
   ]
  },
  {
   "cell_type": "code",
   "execution_count": 944,
   "metadata": {
    "collapsed": true
   },
   "outputs": [],
   "source": [
    "axis_of_rotation = [1., 0. , 0]\n",
    "main_axis_of_the_molecule = np.array([0., 0., 1.])\n",
    "\n",
    "for angle_of_rotation in (np.pi/4., np.pi/2, 3*np.pi/4., -np.pi/4., -np.pi/2, -3*np.pi/4.):\n",
    "    # Define the translation vector:\n",
    "    translate = radius * rotate(axis_of_rotation, angle_of_rotation, main_axis_of_the_molecule)\n",
    "    translate += center_of_sphere\n",
    "    # Rotating and translating on the surface of the sphere\n",
    "    coord[:,:,cpt] = rotate(axis_of_rotation, angle_of_rotation, new_coordinates)  + translate\n",
    "    cpt+=1"
   ]
  },
  {
   "cell_type": "markdown",
   "metadata": {},
   "source": [
    "##### Rotation around y-axis and translation on a sphere"
   ]
  },
  {
   "cell_type": "code",
   "execution_count": 945,
   "metadata": {
    "collapsed": true
   },
   "outputs": [],
   "source": [
    "axis_of_rotation = [0., 1. , 0]\n",
    "main_axis_of_the_molecule = np.array([0., 0., 1.])\n",
    "\n",
    "for angle_of_rotation in (np.pi/4., np.pi/2., 3*np.pi/4., -np.pi/4., -np.pi/2., -3*np.pi/4.):\n",
    "    # Define the translation vector:\n",
    "    translate = radius * rotate(axis_of_rotation, angle_of_rotation, main_axis_of_the_molecule)\n",
    "    translate += center_of_sphere\n",
    "    # Rotating and translating on the surface of the sphere\n",
    "    coord[:,:,cpt] = rotate(axis_of_rotation, angle_of_rotation, new_coordinates)  + translate\n",
    "    cpt+=1"
   ]
  },
  {
   "cell_type": "markdown",
   "metadata": {},
   "source": [
    "Now, we have 8 + 6 caveolins distributed around 2 perpendicular circles.\n",
    "I want 2+2 more caveolins on latitudes 45$^{\\circ}$, -45$^{\\circ}$."
   ]
  },
  {
   "cell_type": "markdown",
   "metadata": {},
   "source": [
    "##### Rotation and translation on a sphere"
   ]
  },
  {
   "cell_type": "code",
   "execution_count": 946,
   "metadata": {
    "collapsed": false
   },
   "outputs": [],
   "source": [
    "axis_of_rotation = normalize(spherical_to_cartesian_coordinates(np.array([1., np.pi/4, 0.])))\n",
    "for angle_of_rotation in (3*np.pi/4., -3*np.pi/4.):\n",
    "    # Define the translation vector:\n",
    "    translate = radius * rotate(axis_of_rotation, angle_of_rotation, main_axis_of_the_molecule)\n",
    "    translate += center_of_sphere\n",
    "    # Rotating and translating on the surface of the sphere\n",
    "    coord[:,:,cpt] = rotate(axis_of_rotation, angle_of_rotation, new_coordinates)  + translate\n",
    "    cpt+=1"
   ]
  },
  {
   "cell_type": "code",
   "execution_count": 947,
   "metadata": {
    "collapsed": false
   },
   "outputs": [],
   "source": [
    "axis_of_rotation = normalize(spherical_to_cartesian_coordinates(np.array([1., -np.pi/4, 0.])))\n",
    "for angle_of_rotation in (3*np.pi/4., -3*np.pi/4.):\n",
    "    # Define the translation vector:\n",
    "    translate = radius * rotate(axis_of_rotation, angle_of_rotation, main_axis_of_the_molecule)\n",
    "    translate += center_of_sphere\n",
    "    # Rotating and translating on the surface of the sphere\n",
    "    coord[:,:,cpt] = rotate(axis_of_rotation, angle_of_rotation, new_coordinates)  + translate\n",
    "    cpt+=1\n"
   ]
  },
  {
   "cell_type": "markdown",
   "metadata": {},
   "source": [
    "# Writing a new gro file"
   ]
  },
  {
   "cell_type": "code",
   "execution_count": 950,
   "metadata": {
    "collapsed": false
   },
   "outputs": [
    {
     "data": {
      "text/plain": [
       "2484"
      ]
     },
     "execution_count": 950,
     "metadata": {},
     "output_type": "execute_result"
    }
   ],
   "source": [
    "# Number of atoms (18 caveolins)\n",
    "natoms = len(coordinates_1)*18\n",
    "natoms"
   ]
  },
  {
   "cell_type": "code",
   "execution_count": 951,
   "metadata": {
    "collapsed": false
   },
   "outputs": [],
   "source": [
    "file_name = 'out_18cav.gro'\n",
    "# Open a new file\n",
    "with open(file_name, 'w') as outfile:\n",
    "    # the first line is let inchanged\n",
    "    for line in data[0]:\n",
    "        outfile.writelines(line)\n",
    "    # write the number of atoms\n",
    "    outfile.write(str(natoms)+'\\n')\n",
    "    # flatten the coordinates\n",
    "    for i in range(coord.shape[-1]):\n",
    "        for line, xyz in zip(data[2:-1], coord[:,:,i]):\n",
    "            outfile.writelines(line[:22]) # write the name and number of the atoms\n",
    "            outfile.writelines('{0:6.3f} {1:7.3f} {2:7.3f}\\n'.format(xyz[0], xyz[1], xyz[2]))\n",
    "    for line in data[-1]:\n",
    "        outfile.writelines(line)"
   ]
  },
  {
   "cell_type": "code",
   "execution_count": 919,
   "metadata": {
    "collapsed": false
   },
   "outputs": [],
   "source": [
    "file_name = 'origin.gro'\n",
    "# Open a new file\n",
    "with open(file_name, 'w') as outfile:\n",
    "    # the first lines (==proteins) are let inchanged\n",
    "    for line in data[0:2]:\n",
    "        outfile.writelines(line)\n",
    "    for line, coord in zip(data[2:-1], new_coordinates):\n",
    "        outfile.writelines(line[:22]) # write the name and number of the atoms\n",
    "        outfile.writelines('{0:.3f} {1:.3f} {2:.3f}\\n'.format(coord[0], coord[1], coord[2]))\n",
    "    for line in data[-1]:\n",
    "        outfile.writelines(line)"
   ]
  },
  {
   "cell_type": "code",
   "execution_count": null,
   "metadata": {
    "collapsed": true
   },
   "outputs": [],
   "source": []
  }
 ],
 "metadata": {
  "kernelspec": {
   "display_name": "Python 2",
   "language": "python",
   "name": "python2"
  },
  "language_info": {
   "codemirror_mode": {
    "name": "ipython",
    "version": 2
   },
   "file_extension": ".py",
   "mimetype": "text/x-python",
   "name": "python",
   "nbconvert_exporter": "python",
   "pygments_lexer": "ipython2",
   "version": "2.7.10"
  }
 },
 "nbformat": 4,
 "nbformat_minor": 0
}
